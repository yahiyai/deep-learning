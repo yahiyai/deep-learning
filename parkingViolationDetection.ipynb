{
 "cells": [
  {
   "cell_type": "code",
   "execution_count": 1,
   "metadata": {},
   "outputs": [],
   "source": [
    "import cv2\n",
    "import matplotlib.pyplot as plt\n",
    "import numpy as np\n",
    "%matplotlib inline"
   ]
  },
  {
   "cell_type": "code",
   "execution_count": 71,
   "metadata": {},
   "outputs": [
    {
     "data": {
      "text/plain": [
       "'Images have successfully exported!'"
      ]
     },
     "execution_count": 71,
     "metadata": {},
     "output_type": "execute_result"
    }
   ],
   "source": [
    "# convert img to gray color & crop R & L Entrance\n",
    "def start_preprocessing(img, colorScale= cv2.COLOR_BGR2GRAY ):\n",
    "    image = cv2.imread(img)\n",
    "    #img = cv2.cvtColor(img, cv2.COLOR_BGR2RGB) # color correction if needed\n",
    "    # ROI\n",
    "    cropped_Ra = cv2.cvtColor(image[33:469, 362:426],colorScale)\n",
    "    cropped_Li = cv2.cvtColor(image[33:469, 165:222],colorScale)\n",
    "    \n",
    "    return [cropped_Li, cropped_Ra]\n",
    "\n",
    "def detected_car(img, BG):\n",
    "    cnts=[0,0,0,0] \n",
    "    for i in range(len(BG)):\n",
    "        img_diff = cv2.absdiff(img[i], BG[i]) # substract BG\n",
    "        img_diff = cv2.blur(img_diff,ksize=(9,9))\n",
    "        if img_diff.max() <= 15:\n",
    "            print('No illegal parking vehicle was detected.')\n",
    "            break \n",
    "        thr, img_threshold = cv2.threshold(img_diff, 28, 255, cv2.THRESH_BINARY)\n",
    "        contours, _ = cv2.findContours(img_threshold, cv2.RETR_CCOMP, cv2.CHAIN_APPROX_SIMPLE)\n",
    "        cnts[i] = contours\n",
    "    return cnts\n",
    "\n",
    "def export_img(o_img, cnts):\n",
    "    orginal= start_preprocessing(o_img,cv2.COLOR_BGR2RGB)\n",
    "    for i in range(len(cnts)):\n",
    "        if cnts[i] != 0:\n",
    "            cv2.drawContours(orginal[i], cnts[i], 0, (0,0,255), 1)\n",
    "#             cv2.imwrite('detected_car_0' + str(i) + '.jpg', orginal[i]) # write image w/ detected obj\n",
    "            \n",
    "    return  lambda x:'Images have successfully exported!' if any(i != 0 for i in cnts) else None \n",
    "                        \n",
    "\n",
    "# BG\n",
    "bg = 'image_0.jpg'\n",
    "img = 'image_1971.jpg'\n",
    "BG = start_preprocessing(bg)\n",
    "# img = 'image_0.jpg'\n",
    "new_img = start_preprocessing(img)\n",
    "# detect & export img\n",
    "export_img(img, detected_car(new_img, BG))([1])"
   ]
  }
 ],
 "metadata": {
  "kernelspec": {
   "display_name": "Python 3",
   "language": "python",
   "name": "python3"
  },
  "language_info": {
   "codemirror_mode": {
    "name": "ipython",
    "version": 3
   },
   "file_extension": ".py",
   "mimetype": "text/x-python",
   "name": "python",
   "nbconvert_exporter": "python",
   "pygments_lexer": "ipython3",
   "version": "3.7.4"
  }
 },
 "nbformat": 4,
 "nbformat_minor": 2
}
